{
 "cells": [
  {
   "cell_type": "markdown",
   "metadata": {},
   "source": [
    "Lightning Talk Schedule for Tuesday, March 14th\n",
    "\n",
    "09:30 Kelsey Jiang\n",
    "- What trends of extinction did you find in your pyrate graphs? \n",
    "09:34 Dominique Castro\n",
    "- What biological finds did you get from your data?\n",
    "09:38 Linna Sun\n",
    "- Any explanation for the exitinction rates occuring on the pyrate maps?\n",
    "09:42 Ashen Parikh\n",
    "- What patterns in cooperation did you find? Did any country stand out to you?\n",
    "09:46 Matthew Muia\n",
    "- What is the cause for difference in growth in Chico trees?\n",
    "09:50 Antonella Gonzalez\n",
    "- What could you do to furhter investigate the extinction of alligatordae\n",
    "09:54 Yee Chau\n",
    "- How could you combine extinction rates with your map in rstudio?\n",
    "09:58 Kristen Lee\n",
    "10:02 Madison Downing\n",
    "- what was the main difference in your graphs for birds and mammals?\n",
    "10:06 Youstina Salama\n",
    "- What caused an increase in diversity in your plots of Haphlorini?\n",
    "10:10 Jeremy Wadowski\n",
    "- Why were most people under the V02 threshhold?\n",
    "10:14 Mehdi Nojoumi\n",
    "- What criteria led you to choosea representative species for your pie chart?\n",
    "10:18 Junghoon Kim\n",
    "- What conclusions did you come to about cockroaches?? \n",
    "10:22 Dustin Wong\n",
    "- How could you edit your visualization of the smaller data rather than create a new type of visual  \n",
    "10:26 Hyein Kil\n",
    "- What new hypothesis can you create about the asian and native birds, after rejecting your  old one?"
   ]
  }
 ],
 "metadata": {
  "kernelspec": {
   "display_name": "Python 3",
   "language": "python",
   "name": "python3"
  },
  "language_info": {
   "codemirror_mode": {
    "name": "ipython",
    "version": 3
   },
   "file_extension": ".py",
   "mimetype": "text/x-python",
   "name": "python",
   "nbconvert_exporter": "python",
   "pygments_lexer": "ipython3",
   "version": "3.5.2"
  }
 },
 "nbformat": 4,
 "nbformat_minor": 2
}
