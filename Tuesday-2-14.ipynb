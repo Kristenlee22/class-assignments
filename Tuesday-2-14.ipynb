{
 "cells": [
  {
   "cell_type": "code",
   "execution_count": 4,
   "metadata": {
    "collapsed": false
   },
   "outputs": [
    {
     "name": "stdout",
     "output_type": "stream",
     "text": [
      "atCttCt\n",
      "GGtCt\n"
     ]
    }
   ],
   "source": [
    "seq = \"ATCTTCT\"\n",
    "seq2 = \"GGTCT\"\n",
    "\n",
    "seq = seq.replace(\"A\", \"a\")\n",
    "seq = seq.replace(\"T\", \"t\")\n",
    "\n",
    "seq2 = seq2.replace(\"T\", \"t\")\n",
    "\n",
    "print(seq)\n",
    "print(seq2)"
   ]
  },
  {
   "cell_type": "code",
   "execution_count": 10,
   "metadata": {
    "collapsed": false
   },
   "outputs": [
    {
     "name": "stdout",
     "output_type": "stream",
     "text": [
      "Welcome!\n"
     ]
    }
   ],
   "source": [
    "# need to use def with functions in python\n",
    "\n",
    "def greeter():   \n",
    "    print(\"Welcome!\")\n",
    "    \n",
    "greeter()   #prints \"welcome!\""
   ]
  },
  {
   "cell_type": "code",
   "execution_count": 13,
   "metadata": {
    "collapsed": false
   },
   "outputs": [
    {
     "name": "stdout",
     "output_type": "stream",
     "text": [
      "This string has 7 characters\n"
     ]
    }
   ],
   "source": [
    "#can assign variable in definition of function\n",
    "\n",
    "def stringAnalyzer(ss):\n",
    "    length = len(ss)\n",
    "    print(\"This string has {} characters\".format(length))\n",
    "    \n",
    "stringAnalyzer(seq)"
   ]
  },
  {
   "cell_type": "code",
   "execution_count": 15,
   "metadata": {
    "collapsed": false
   },
   "outputs": [
    {
     "name": "stdout",
     "output_type": "stream",
     "text": [
      "This string has 7 characters\n",
      "33\n"
     ]
    }
   ],
   "source": [
    "def stringAnalyzer(ss):\n",
    "    length = len(ss)\n",
    "    yy = 26  \n",
    "    zz = yy + length\n",
    "    print(\"This string has {} characters\".format(length))\n",
    "    return zz #return will give us back zz, length + 26\n",
    "    \n",
    "longer_length = stringAnalyzer(seq)\n",
    "print(longer_length)"
   ]
  },
  {
   "cell_type": "code",
   "execution_count": 28,
   "metadata": {
    "collapsed": false
   },
   "outputs": [
    {
     "name": "stdout",
     "output_type": "stream",
     "text": [
      "0.5294117647058824\n",
      "0.7\n"
     ]
    }
   ],
   "source": [
    "seq = \"ATTCGTTAT\" # dont need for this first code\n",
    "def get_at_content(dna):\n",
    "    dna = dna.upper()  # add to make everything uppercase\n",
    "    # or could do dna.upper().count('A') instead\n",
    "    length = len(dna)\n",
    "    a_count = dna.count('A')\n",
    "    t_count = dna.count('T')\n",
    "    at_content = (a_count + t_count) / length\n",
    "    return at_content\n",
    "\n",
    "print(get_at_content(\"ATGCATGCAACTGTAGC\"))\n",
    "print(get_at_content(\"aactgtacta\"))"
   ]
  },
  {
   "cell_type": "code",
   "execution_count": null,
   "metadata": {
    "collapsed": true
   },
   "outputs": [],
   "source": [
    "# ?seq. then tab to find out more info about commands"
   ]
  },
  {
   "cell_type": "code",
   "execution_count": 35,
   "metadata": {
    "collapsed": false
   },
   "outputs": [
    {
     "name": "stdout",
     "output_type": "stream",
     "text": [
      "0.29411764705882354\n",
      "0.4\n"
     ]
    }
   ],
   "source": [
    "def get_at_content(dna):\n",
    "    for bases in ['A', 'T', 'G', 'C']:\n",
    "        length = len(dna)\n",
    "        count = dna.upper().count(bases)\n",
    "        at_content = (count) / length\n",
    "        return at_content\n",
    "\n",
    "print(get_at_content(\"ATGCATGCAACTGTAGC\"))\n",
    "print(get_at_content(\"aactgtacta\"))\n",
    "\n"
   ]
  },
  {
   "cell_type": "code",
   "execution_count": 51,
   "metadata": {
    "collapsed": false
   },
   "outputs": [
    {
     "name": "stdout",
     "output_type": "stream",
     "text": [
      "A=2\n",
      "T=5\n",
      "G=1\n",
      "C=1\n",
      "{'A': 2, 'G': 1, 'C': 1, 'T': 5}\n",
      "A=2\n",
      "T=5\n",
      "G=1\n",
      "C=1\n"
     ]
    },
    {
     "data": {
      "text/plain": [
       "dict_keys(['A', 'G', 'C', 'T'])"
      ]
     },
     "execution_count": 51,
     "metadata": {},
     "output_type": "execute_result"
    }
   ],
   "source": [
    "# creating a dictionary\n",
    "\n",
    "def get_at_content(dna):\n",
    "    baseDict = {} #will hold counts #now adding dictionary\n",
    "    for bases in ['A', 'T', 'G', 'C']:  # \"ACTG\" string will also work\n",
    "        count = dna.upper().count(bases)\n",
    "#         upperseq = dna.upper()\n",
    "#         count = upperseq.count(ss)\n",
    "        baseDict[bases] = count\n",
    "        print(bases + \"=\" + str(count))\n",
    "    return baseDict\n",
    "\n",
    "# print(get_at_content(\"ATGCATGCAACTGTAGC\"))\n",
    "# get_at_content(\"aactgtacttga\")\n",
    "# print(get_at_content(seq))\n",
    "\n",
    "dd = get_at_content(seq) # seq is from box above\n",
    "dd.keys()"
   ]
  },
  {
   "cell_type": "code",
   "execution_count": 61,
   "metadata": {
    "collapsed": false
   },
   "outputs": [
    {
     "data": {
      "text/plain": [
       "0.6363636363636364"
      ]
     },
     "execution_count": 61,
     "metadata": {},
     "output_type": "execute_result"
    }
   ],
   "source": [
    "seq = \"ATCCTTAGACT\"\n",
    "def get_at_content(dna):\n",
    "    dnalist = [] #create a list that we append everything to, to return it all\n",
    "    dna = dna.upper()  \n",
    "    length = len(dna)\n",
    "    a_count = dna.count('A')\n",
    "    t_count = dna.count('T')\n",
    "    at_content = (a_count + t_count) / length\n",
    "    dnalist.append(a_count)\n",
    "    dnalist.append(t_count)\n",
    "    dnalist.append(at_content)\n",
    "    return dnalist\n",
    "\n",
    "res = get_at_content(seq)\n",
    "# print(a_count) doesnt work because its in the function, so have to return it and assign a new name\n",
    "\n",
    "res[-1] #just to do T"
   ]
  },
  {
   "cell_type": "code",
   "execution_count": 63,
   "metadata": {
    "collapsed": false
   },
   "outputs": [
    {
     "data": {
      "text/plain": [
       "0.4211"
      ]
     },
     "execution_count": 63,
     "metadata": {},
     "output_type": "execute_result"
    }
   ],
   "source": [
    "# Multiple arguments\n",
    "\n",
    "def get_at_content(dna, sigfig): # adding second argument, sigfig \n",
    "    length = len(dna)\n",
    "    a_count = dna.upper().count('A')\n",
    "    t_count = dna.upper().count('T')\n",
    "    at_content = (a_count + t_count) / length\n",
    "    return round(at_content, sigfig)\n",
    "\n",
    "get_at_content(\"ATGCGCGATCGATCGAGTC\", 4) # need to call two things because two arguments"
   ]
  }
 ],
 "metadata": {
  "anaconda-cloud": {},
  "kernelspec": {
   "display_name": "Python [default]",
   "language": "python",
   "name": "python3"
  },
  "language_info": {
   "codemirror_mode": {
    "name": "ipython",
    "version": 3
   },
   "file_extension": ".py",
   "mimetype": "text/x-python",
   "name": "python",
   "nbconvert_exporter": "python",
   "pygments_lexer": "ipython3",
   "version": "3.5.2"
  }
 },
 "nbformat": 4,
 "nbformat_minor": 2
}
