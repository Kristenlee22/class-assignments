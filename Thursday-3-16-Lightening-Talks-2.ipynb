{
 "cells": [
  {
   "cell_type": "markdown",
   "metadata": {},
   "source": [
    "09:30 Aditya Kantawala\n",
    "What could you do to get more conclusive locational data? Does the fact that pangea existed, change your trends in data?\n",
    "\n",
    "09:34 Justin Shieh\n",
    "What do you think the cause of such a steep drop in diversification in your R graph? And was there a coorelation between brain size and diversification?\n",
    "\n",
    "09:38 Sarah Kim\n",
    "Was glaciation the main factor causing diversity, or was there another strong factor based on your trends from your graphs?\n",
    "\n",
    "09:42 Christina Zhou\n",
    "Why do you think there was a lack of fossil locations for bats in the database?\n",
    "\n",
    "09:46 Gayane Hovsepyan\n",
    "Why is there a difference between male and female diagnosis in your R plots? \n",
    "\n",
    "09:50 Roxana Nojoumi\n",
    "How could you further expand upon the correlation between horses and plants? What did you expect the correlation to be? (negative or positive)\n",
    "\n",
    "09:54 Cooper Kass\n",
    "What do you think caused a net extinction rate? Why are both the speciation and extinction rates so similar?\n",
    "\n",
    "09:58 Jeffrey Lee\n",
    "Why do you think there such an increase in diversity more recently rather than millions of years ago?\n",
    "\n",
    "10:02 Laura Trejo\n",
    "Since there wasn't enough occurances, did you just go up a taxonomic level? So are the Trogones part of the neotropical bird famiy?\n",
    "\n",
    "10:06 Jin Kim\n",
    "Why did you want to study the aves species with the longest age range? Do you know why the species location is so narrow and limited despite its long age range?\n",
    "\n",
    "10:10 Marina Salama\n",
    "What was the cause for the gap in your last R-plot? Was it a lack of fossils or a large extinction?\n",
    "\n",
    "10:14 Erin Solis\n",
    "Why do you think a lot of the ranges were so small (specks on the occurance plot)? What do you think caused a jump in extinction?\n",
    "\n",
    "10:18 Sean Mathew\n",
    "That matplotlib world occurance map was awesome. What do you think caused a constant speciation rate, but a huge spike in extinction during the end in your pyrate plots?\n",
    "\n",
    "10:22 Tiffany Dang\n",
    "What do you think caused these more recent extinction rates? How are you going to get data about the environment to try and correlate these trends?\n",
    "\n"
   ]
  }
 ],
 "metadata": {
  "kernelspec": {
   "display_name": "Python 3",
   "language": "python",
   "name": "python3"
  },
  "language_info": {
   "codemirror_mode": {
    "name": "ipython",
    "version": 3
   },
   "file_extension": ".py",
   "mimetype": "text/x-python",
   "name": "python",
   "nbconvert_exporter": "python",
   "pygments_lexer": "ipython3",
   "version": "3.5.2"
  }
 },
 "nbformat": 4,
 "nbformat_minor": 2
}
