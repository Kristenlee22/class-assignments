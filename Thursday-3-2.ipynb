{
 "cells": [
  {
   "cell_type": "code",
   "execution_count": null,
   "metadata": {
    "collapsed": true
   },
   "outputs": [],
   "source": [
    "# write output file that has genus, species, earliest appearance, and latest appearance\n"
   ]
  },
  {
   "cell_type": "code",
   "execution_count": 11,
   "metadata": {
    "collapsed": false
   },
   "outputs": [
    {
     "name": "stdout",
     "output_type": "stream",
     "text": [
      "\"Vulpes vulpes\"\"species\"\"0.126\"\"0.0117\"\n"
     ]
    }
   ],
   "source": [
    "# the code I came up with \n",
    "\n",
    "in_file = open(\"canids/formatted_pbdb_data.csv\", 'r') \n",
    "\n",
    "read_file = in_file.readlines()\n",
    "\n",
    "for column in read_file:\n",
    "        items = column.split(\",\")\n",
    "        genus = items[5]\n",
    "        species = items[6]\n",
    "        earliest_appearance = items[10]\n",
    "        latest_appearance = items[11]\n",
    "\n",
    "print(genus + species + earliest_appearance + latest_appearance)"
   ]
  },
  {
   "cell_type": "code",
   "execution_count": 16,
   "metadata": {
    "collapsed": false
   },
   "outputs": [
    {
     "name": "stdout",
     "output_type": "stream",
     "text": [
      "\"Vulpes vulpes\"\"species\"\"0.126\"\"0.0117\"\n"
     ]
    }
   ],
   "source": [
    "infile = \"canids/formatted_pbdb_data.csv\"\n",
    "with open(infile, 'r') as ff:\n",
    "    cread_file = ff.readlines()\n",
    "\n",
    "for column in read_file:\n",
    "        items = column.split(\",\")\n",
    "        genus = items[5]\n",
    "        species = items[6]\n",
    "        earliest_appearance = items[10]\n",
    "        latest_appearance = items[11]\n",
    "\n",
    "print(genus + species + earliest_appearance + latest_appearance)"
   ]
  },
  {
   "cell_type": "code",
   "execution_count": 10,
   "metadata": {
    "collapsed": false,
    "scrolled": false
   },
   "outputs": [],
   "source": [
    "## the code we are doing as a class\n",
    "from collections import defaultdict\n",
    "\n",
    "species_ranges = defaultdict(list)\n",
    "\n",
    "infile = \"canids/formatted_pbdb_data.csv\"\n",
    "with open(infile, 'r') as ff:\n",
    "    canid_recs = ff.readlines()\n",
    "    \n",
    "    for line in canid_recs:\n",
    "        species = line.split(\",\")[5]  #'\"\"' gets rid of quotes\n",
    "        minage = line.split('\",\"')[10]\n",
    "        maxage = line.split('\",\"')[11]  \n",
    "#         mean_age = (float(minage)+float(maxage))/ 2\n",
    "        species_ranges[species].append(minage)\n",
    "#         species_ranges[species].append(mean_age)\n",
    "\n",
    "output = open(\"canids/canid_ranges\", \"w\")\n",
    "\n",
    "        #can you sort keys\n",
    "\n",
    "for key in species_ranges.keys():\n",
    "                ages = species_ranges[key]\n",
    "                minage = min(ages)\n",
    "                maxage = max(ages)\n",
    "                genus = key.split(\" \")[0]\n",
    "            #     print(key, minage, maxage)\n",
    "                outline = \"{},{},{},{}\\n\".format(genus, species, minage, maxage)\n",
    "            #     output.write(genus + \",\" + key)\n",
    "                output.writelines(outline)\n",
    "output.close()\n"
   ]
  },
  {
   "cell_type": "code",
   "execution_count": 55,
   "metadata": {
    "collapsed": true
   },
   "outputs": [],
   "source": [
    "    output = open(\"canids/canid_ranges\", \"w\")\n",
    "\n",
    "    #can you sort keys\n",
    "\n",
    "    for key in species_ranges.keys():\n",
    "        ages = species_ranges[key]\n",
    "        minage = min(ages)\n",
    "        maxage = max(ages)\n",
    "        genus = key.split(\" \")[0]\n",
    "    #     print(key, minage, maxage)\n",
    "        outline = \"{},{},{},{}\\n\".format(genus, species, minage, maxage)\n",
    "    #     output.write(genus + \",\" + key)\n",
    "        output.write(outline)"
   ]
  }
 ],
 "metadata": {
  "anaconda-cloud": {},
  "kernelspec": {
   "display_name": "Python [default]",
   "language": "python",
   "name": "python3"
  },
  "language_info": {
   "codemirror_mode": {
    "name": "ipython",
    "version": 3
   },
   "file_extension": ".py",
   "mimetype": "text/x-python",
   "name": "python",
   "nbconvert_exporter": "python",
   "pygments_lexer": "ipython3",
   "version": "3.5.2"
  }
 },
 "nbformat": 4,
 "nbformat_minor": 2
}
