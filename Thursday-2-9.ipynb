{
 "cells": [
  {
   "cell_type": "code",
   "execution_count": 8,
   "metadata": {
    "collapsed": false
   },
   "outputs": [
    {
     "name": "stdout",
     "output_type": "stream",
     "text": [
      "Homo is an ape\n",
      "Pan is an ape\n",
      "Gorilla is an ape\n"
     ]
    }
   ],
   "source": [
    "apes = [\"Homo\", \"Pan\", \"Gorilla\"]\n",
    "\n",
    "for some_variable in apes:\n",
    "    print(some_variable + \" is an ape\")"
   ]
  },
  {
   "cell_type": "code",
   "execution_count": 9,
   "metadata": {
    "collapsed": false,
    "scrolled": true
   },
   "outputs": [
    {
     "name": "stdout",
     "output_type": "stream",
     "text": [
      "1\n",
      "2\n",
      "3\n",
      "4\n",
      "5\n",
      "6\n",
      "7\n",
      "8\n",
      "9\n"
     ]
    }
   ],
   "source": [
    "count = 1\n",
    "while count<10:\n",
    "        print(count)\n",
    "        count = count + 1\n",
    "        \n",
    "#Ctrl c to kill script\n",
    "#ctrl m then i to kill script in notebook"
   ]
  },
  {
   "cell_type": "code",
   "execution_count": 15,
   "metadata": {
    "collapsed": false
   },
   "outputs": [
    {
     "name": "stdout",
     "output_type": "stream",
     "text": [
      "Not divisible by 2\n"
     ]
    }
   ],
   "source": [
    "x = 3\n",
    "if x % 2 == 0: \n",
    "    print(\"Divisible by 2\")\n",
    "else:\n",
    "    print(\"Not divisible by 2\")"
   ]
  },
  {
   "cell_type": "markdown",
   "metadata": {},
   "source": [
    "# Challenge 1\n",
    "\n",
    "*(Partner: forgot to get her name, but I will update this next time I see her)*\n",
    "\n",
    "1. How many families are in this file: **194**\n",
    "2. Which family have the most species represented\n",
    "3. How many families have only a single species in them\n",
    "4. How many families are present in the eBird data\n",
    "5. How many species are in each family of the eBird data\n",
    "\n",
    "\n",
    "**first we cd into classassignments then used the command wget to download the file into the directory**\n",
    "\n",
    "`eeb177-student@eeb177-VirtualBox:~/Desktop/eeb-177/class-assignments$ wget http://www.nature.com/nature/journal/vaop/ncurrent/source_data/nature21074-f1.csv` \n",
    "\n",
    "\n",
    "**There was a problem with the end of line characters, so we saved the original files as new files with corrected lines using the tr command**\n",
    "\n",
    "`eeb177-student@eeb177-VirtualBox:~/Desktop/eeb-177/class-assignments$ cat nature21074-f1.csv | tr \"\\r\" \"\\n\" > formatted.nature.csv`\n",
    "\n",
    "\n",
    "**There are 194 families, this is the code we ran in shell to get that**\n",
    "\n",
    "\n",
    "`eeb177-student@eeb177-VirtualBox:~/Desktop/eeb-177/class-assignments$ tail -n +4 formatted.nature.csv | cut -d \",\" -f 3 | sort | uniq | wc -l`\n"
   ]
  },
  {
   "cell_type": "code",
   "execution_count": null,
   "metadata": {
    "collapsed": true
   },
   "outputs": [],
   "source": []
  }
 ],
 "metadata": {
  "anaconda-cloud": {},
  "kernelspec": {
   "display_name": "Python [default]",
   "language": "python",
   "name": "python3"
  },
  "language_info": {
   "codemirror_mode": {
    "name": "ipython",
    "version": 3
   },
   "file_extension": ".py",
   "mimetype": "text/x-python",
   "name": "python",
   "nbconvert_exporter": "python",
   "pygments_lexer": "ipython3",
   "version": "3.5.2"
  }
 },
 "nbformat": 4,
 "nbformat_minor": 2
}
