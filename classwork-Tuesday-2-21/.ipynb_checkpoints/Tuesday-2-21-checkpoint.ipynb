{
 "cells": [
  {
   "cell_type": "markdown",
   "metadata": {},
   "source": [
    "### downloading data\n",
    "\n",
    "`eeb177-student@eeb177-VirtualBox:~/Desktop/eeb-177/class-assignments/classwork-Tuesday-2-21$ wget http://ctfs.si.edu/webatlas/datasets/cocoli/cocoli.zip`\n",
    "\n",
    "`eeb177-student@eeb177-VirtualBox:~/Desktop/eeb-177/class-assignments/classwork-Tuesday-2-21$ unzip cocoli.zip`\n"
   ]
  },
  {
   "cell_type": "markdown",
   "metadata": {},
   "source": [
    "1. Each row in cocoli.txt represents a single record of a tree that was censused\n",
    "2. Each row in cocolisp.txt represents is a different species for each species code\n",
    "3. Entry in multi2 column 2 indicates number of stems the plant has for the second reading\n",
    "4. dbh2 refers to the diameter at breast height measured in (mm)for the second reading\n",
    "5. Use the tag CAL2CA and use grep with the cocolisp.txt file \n",
    "    `grep CAL2CA cocolisp.txt`\n",
    "6. Calycophyllum\tcandidissimum"
   ]
  },
  {
   "cell_type": "markdown",
   "metadata": {},
   "source": [
    "grep 000011 mult1.txt will print out these two columns "
   ]
  },
  {
   "cell_type": "markdown",
   "metadata": {},
   "source": [
    "### brain storming ideas:\n",
    "What species of the data set, on average grew the most? (using dbh values)\n",
    "\n",
    "Is there a correlation between stem number and dbh?\n",
    "\n",
    "Is there variation in growth rate across the plot? (using x&y locational data)"
   ]
  },
  {
   "cell_type": "markdown",
   "metadata": {},
   "source": [
    "### Species rich genus\n",
    "Piper is the most species rich genus in this community\n",
    "code: `eeb177-student@eeb177-VirtualBox:~/Desktop/eeb-177/class-assignments/classwork-Tuesday-2-21$ sed 's/\\s/,/g' cocolisp.txt | cut -d \",\" -f 2 | uniq -c | sort -n`\n"
   ]
  },
  {
   "cell_type": "markdown",
   "metadata": {},
   "source": [
    "### Genera with one species represented\n",
    "`eeb177-student@eeb177-VirtualBox:~/Desktop/eeb-177/class-assignments/classwork-Tuesday-2-21$ sed 's/\\s/,/g' cocolisp.txt | cut -d \",\" -f 2 | sort| uniq -c | sort -n |grep 1 | wc -l`\n",
    "\n",
    "99\n"
   ]
  },
  {
   "cell_type": "markdown",
   "metadata": {},
   "source": [
    "Pseudocode\n",
    "\n",
    "I would create three empty dictionaries \n",
    "Each would have the growth rates for the 3 different censuses\n",
    "The keys will be the species and the values would be the dbh\n",
    "I will then use mathematical operations to calculate the relative growth rate\n",
    "I would sort my results"
   ]
  }
 ],
 "metadata": {
  "anaconda-cloud": {},
  "kernelspec": {
   "display_name": "Python [default]",
   "language": "python",
   "name": "python3"
  },
  "language_info": {
   "codemirror_mode": {
    "name": "ipython",
    "version": 3
   },
   "file_extension": ".py",
   "mimetype": "text/x-python",
   "name": "python",
   "nbconvert_exporter": "python",
   "pygments_lexer": "ipython3",
   "version": "3.5.2"
  }
 },
 "nbformat": 4,
 "nbformat_minor": 2
}
